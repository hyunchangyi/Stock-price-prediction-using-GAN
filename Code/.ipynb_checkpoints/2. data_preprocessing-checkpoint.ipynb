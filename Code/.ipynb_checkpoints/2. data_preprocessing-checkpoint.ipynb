{
 "cells": [
  {
   "cell_type": "code",
   "execution_count": 1,
   "id": "37e18cf3-2e26-4177-acf3-854147fb146f",
   "metadata": {},
   "outputs": [
    {
     "name": "stdout",
     "output_type": "stream",
     "text": [
      "Index(['Date', 'Open', 'High', 'Low', 'Close', 'Volume', 'NASDAQ ', 'NYSE ',\n",
      "       'S&P 500', 'FTSE100', 'NIKKI225', 'BSE SENSEX', 'RUSSELL2000',\n",
      "       'HENG SENG', 'SSE', 'Crude Oil', 'Gold', 'VIX', 'USD index', 'Amazon',\n",
      "       'Google', 'Microsoft', 'MA7', 'MA21', 'MACD', '20SD', 'upper_band',\n",
      "       'lower_band', 'EMA', 'logmomentum', 'absolute of 3 comp',\n",
      "       'angle of 3 comp', 'absolute of 6 comp', 'angle of 6 comp',\n",
      "       'absolute of 9 comp', 'angle of 9 comp', 'News'],\n",
      "      dtype='object')\n"
     ]
    },
    {
     "data": {
      "image/png": "[encoded data removed]",
      "text/plain": [
       "<Figure size 432x288 with 1 Axes>"
      ]
     },
     "metadata": {
      "needs_background": "light"
     },
     "output_type": "display_data"
    }
   ],
   "source": [
    "import os\n",
    "import pandas as pd\n",
    "import numpy as np\n",
    "import pandas as pd\n",
    "import statsmodels.api as sm\n",
    "from numpy import *\n",
    "from math import sqrt\n",
    "from pandas import *\n",
    "from datetime import datetime, timedelta\n",
    "import matplotlib.pyplot as plt\n",
    "from sklearn.preprocessing import MinMaxScaler\n",
    "from pickle import dump\n",
    "\n",
    "# %% --------------------------------------- Load Data  -----------------------------------------------------------------\n",
    "dataset = pd.read_csv('Finaldata_with_Fourier.csv', parse_dates=['Date'])\n",
    "news = pd.read_csv(\"News.csv\", parse_dates=[\"Date\"])\n",
    "\n",
    "# %% --------------------------------------- Data Preprocessing  -----------------------------------------------------------------\n",
    "\n",
    "# Replace 0 by NA\n",
    "dataset.replace(0, np.nan, inplace=True)\n",
    "dataset.to_csv(\"dataset.csv\", index=False)\n",
    "# Add News data\n",
    "dataset[\"News\"] = news[\"Score\"]\n",
    "\n",
    "# Check NA and fill them\n",
    "dataset.isnull().sum()\n",
    "dataset.iloc[:, 1:] = pd.concat([dataset.iloc[:, 1:].ffill(), dataset.iloc[:, 1:].bfill()]).groupby(level=0).mean()\n",
    "print(dataset.columns)\n",
    "\n",
    "# Set the date to datetime data\n",
    "datetime_series = pd.to_datetime(dataset['Date'])\n",
    "datetime_index = pd.DatetimeIndex(datetime_series.values)\n",
    "dataset = dataset.set_index(datetime_index)\n",
    "dataset = dataset.sort_values(by='Date')\n",
    "dataset = dataset.drop(columns='Date')\n",
    "\n",
    "# Get features and target\n",
    "X_value = pd.DataFrame(dataset.iloc[:, :])\n",
    "y_value = pd.DataFrame(dataset.iloc[:, 3])\n",
    "\n",
    "# Autocorrelation Check\n",
    "sm.graphics.tsa.plot_acf(y_value.squeeze(), lags=100)\n",
    "plt.show()\n",
    "\n",
    "# Normalized the data\n",
    "X_scaler = MinMaxScaler(feature_range=(-1, 1))\n",
    "y_scaler = MinMaxScaler(feature_range=(-1, 1))\n",
    "X_scaler.fit(X_value)\n",
    "y_scaler.fit(y_value)\n",
    "\n",
    "X_scale_dataset = X_scaler.fit_transform(X_value)\n",
    "y_scale_dataset = y_scaler.fit_transform(y_value)\n",
    "\n",
    "dump(X_scaler, open('X_scaler.pkl', 'wb'))\n",
    "dump(y_scaler, open('y_scaler.pkl', 'wb'))"
   ]
  },
  {
   "cell_type": "code",
   "execution_count": 9,
   "id": "61d9d3d3-53ec-4df8-926a-a1eb95d868e7",
   "metadata": {},
   "outputs": [
    {
     "name": "stdout",
     "output_type": "stream",
     "text": [
      "X shape:  (2494, 3, 36)\n",
      "y shape:  (2494, 1)\n",
      "X_train shape:  (1746, 3, 36)\n",
      "y_train shape:  (1746, 1)\n",
      "y_c_train shape:  (1746, 3, 1)\n",
      "X_test shape:  (748, 3, 36)\n",
      "y_test shape:  (748, 1)\n",
      "y_c_test shape:  (748, 3, 1)\n",
      "index_train shape: (1746,)\n",
      "index_test shape: (748,)\n"
     ]
    }
   ],
   "source": [
    "# Reshape the data\n",
    "'''Set the data input steps and output steps, \n",
    "    we use 30 days data to predict 1 day price here, \n",
    "    reshape it to (None, input_step, number of features) used for LSTM input'''\n",
    "n_steps_in = 3\n",
    "n_features = X_value.shape[1]\n",
    "n_steps_out = 1\n",
    "\n",
    "# Get X/y dataset\n",
    "def get_X_y(X_data, y_data):\n",
    "    X = list()\n",
    "    y = list()\n",
    "    yc = list()\n",
    "\n",
    "    length = len(X_data)\n",
    "    for i in range(0, length, 1):\n",
    "        X_value = X_data[i: i + n_steps_in][:, :]\n",
    "        y_value = y_data[i + n_steps_in: i + (n_steps_in + n_steps_out)][:, 0]\n",
    "        yc_value = y_data[i: i + n_steps_in][:, :]\n",
    "        if len(X_value) == 3 and len(y_value) == 1:\n",
    "            X.append(X_value)\n",
    "            y.append(y_value)\n",
    "            yc.append(yc_value)\n",
    "\n",
    "    return np.array(X), np.array(y), np.array(yc)\n",
    "\n",
    "# get the train test predict index\n",
    "def predict_index(dataset, X_train, n_steps_in, n_steps_out):\n",
    "\n",
    "    # get the predict data (remove the in_steps days)\n",
    "    train_predict_index = dataset.iloc[n_steps_in : X_train.shape[0] + n_steps_in + n_steps_out - 1, :].index\n",
    "    test_predict_index = dataset.iloc[X_train.shape[0] + n_steps_in:, :].index\n",
    "\n",
    "    return train_predict_index, test_predict_index\n",
    "\n",
    "# Split train/test dataset\n",
    "def split_train_test(data):\n",
    "    train_size = round(len(X) * 0.7)\n",
    "    data_train = data[0:train_size]\n",
    "    data_test = data[train_size:]\n",
    "    return data_train, data_test\n",
    "\n",
    "# Get data and check shape\n",
    "X, y, yc = get_X_y(X_scale_dataset, y_scale_dataset)\n",
    "X_train, X_test, = split_train_test(X)\n",
    "y_train, y_test, = split_train_test(y)\n",
    "yc_train, yc_test, = split_train_test(yc)\n",
    "index_train, index_test, = predict_index(dataset, X_train, n_steps_in, n_steps_out)\n",
    "# %% --------------------------------------- Save dataset -----------------------------------------------------------------\n",
    "print('X shape: ', X.shape)\n",
    "print('y shape: ', y.shape)\n",
    "print('X_train shape: ', X_train.shape)\n",
    "print('y_train shape: ', y_train.shape)\n",
    "print('y_c_train shape: ', yc_train.shape)\n",
    "print('X_test shape: ', X_test.shape)\n",
    "print('y_test shape: ', y_test.shape)\n",
    "print('y_c_test shape: ', yc_test.shape)\n",
    "print('index_train shape:', index_train.shape)\n",
    "print('index_test shape:', index_test.shape)\n",
    "\n",
    "np.save(\"X_train.npy\", X_train)\n",
    "np.save(\"y_train.npy\", y_train)\n",
    "np.save(\"X_test.npy\", X_test)\n",
    "np.save(\"y_test.npy\", y_test)\n",
    "np.save(\"yc_train.npy\", yc_train)\n",
    "np.save(\"yc_test.npy\", yc_test)\n",
    "np.save('train_predict_index.npy', index_train)\n",
    "np.save('test_predict_index.npy', index_test)"
   ]
  },
  {
   "cell_type": "code",
   "execution_count": null,
   "id": "2557e9fb-1a6c-4ea3-90ef-a1bce9563144",
   "metadata": {},
   "outputs": [],
   "source": []
  }
 ],
 "metadata": {
  "kernelspec": {
   "display_name": "Python 3",
   "language": "python",
   "name": "python3"
  },
  "language_info": {
   "codemirror_mode": {
    "name": "ipython",
    "version": 3
   },
   "file_extension": ".py",
   "mimetype": "text/x-python",
   "name": "python",
   "nbconvert_exporter": "python",
   "pygments_lexer": "ipython3",
   "version": "3.8.8"
  }
 },
 "nbformat": 4,
 "nbformat_minor": 5
}
